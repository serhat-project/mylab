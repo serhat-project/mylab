{
  "nbformat": 4,
  "nbformat_minor": 0,
  "metadata": {
    "colab": {
      "name": "Untitled34.ipynb",
      "provenance": [],
      "authorship_tag": "ABX9TyOlBV7kfA0ue4opvoW9qR0d",
      "include_colab_link": true
    },
    "kernelspec": {
      "name": "python3",
      "display_name": "Python 3"
    }
  },
  "cells": [
    {
      "cell_type": "markdown",
      "metadata": {
        "id": "view-in-github",
        "colab_type": "text"
      },
      "source": [
        "<a href=\"https://colab.research.google.com/github/serhat-project/mylab/blob/master/Assignment%20-%20007/2%20(Covid-19).ipynb\" target=\"_parent\"><img src=\"https://colab.research.google.com/assets/colab-badge.svg\" alt=\"Open In Colab\"/></a>"
      ]
    },
    {
      "cell_type": "code",
      "metadata": {
        "id": "3jUHIk-Zw-GG"
      },
      "source": [
        "age = input(\"Are you a cigarette addict older than 75 years old?\").title().strip() == \"Yes\"\r\n",
        "chronic = input(\"Do you have a severe chronic disease?\").title().strip() == \"Yes\"\r\n",
        "immune = input(\"Is your immune system too weak?\").title().strip() == \"Yes\"\r\n",
        "          \r\n",
        "if age and chronic and immune:\r\n",
        "  print(\"You are in risky group\")\r\n",
        "else:\r\n",
        "  print(\"You are not in risky group\")\r\n"
      ],
      "execution_count": null,
      "outputs": []
    }
  ]
}