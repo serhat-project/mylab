{
  "nbformat": 4,
  "nbformat_minor": 0,
  "metadata": {
    "colab": {
      "name": "Untitled34.ipynb",
      "provenance": [],
      "authorship_tag": "ABX9TyPQVCHRBVUn7efnsf4+rkvs",
      "include_colab_link": true
    },
    "kernelspec": {
      "name": "python3",
      "display_name": "Python 3"
    }
  },
  "cells": [
    {
      "cell_type": "markdown",
      "metadata": {
        "id": "view-in-github",
        "colab_type": "text"
      },
      "source": [
        "<a href=\"https://colab.research.google.com/github/serhat-project/mylab/blob/master/Assignment%20-%20007/1.ipynb\" target=\"_parent\"><img src=\"https://colab.research.google.com/assets/colab-badge.svg\" alt=\"Open In Colab\"/></a>"
      ]
    },
    {
      "cell_type": "code",
      "metadata": {
        "colab": {
          "base_uri": "https://localhost:8080/"
        },
        "id": "3jUHIk-Zw-GG",
        "outputId": "907db715-1b70-4dec-f034-e25b1e6b2a17"
      },
      "source": [
        "name = input(\"Please enter first name here:\")\r\n",
        "if name == \"Serhat\":\r\n",
        "  print(\"Hello, Serhat! The password is : W@12\")\r\n",
        "else:\r\n",
        "  print(f\"Hello, {name}! See you later\")"
      ],
      "execution_count": 5,
      "outputs": [
        {
          "output_type": "stream",
          "text": [
            "Please enter first name here:Ayşe\n",
            "Hello, Ayşe! See you later\n"
          ],
          "name": "stdout"
        }
      ]
    }
  ]
}